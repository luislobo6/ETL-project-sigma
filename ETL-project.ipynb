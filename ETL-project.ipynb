{
 "cells": [
  {
   "cell_type": "code",
   "execution_count": 88,
   "metadata": {},
   "outputs": [],
   "source": [
    "import pandas as pd\n",
    "from bs4 import BeautifulSoup as bs\n",
    "import requests\n",
    "import pymongo\n",
    "import sqlalchemy\n",
    "from sqlalchemy.ext.automap import automap_base\n",
    "from sqlalchemy.orm import Session\n",
    "from sqlalchemy import create_engine\n",
    "from sqlalchemy.inspection import inspect \n",
    "from sqlalchemy import and_"
   ]
  },
  {
   "cell_type": "markdown",
   "metadata": {},
   "source": [
    "# Team SIGMA"
   ]
  },
  {
   "cell_type": "markdown",
   "metadata": {},
   "source": [
    "# Extract information"
   ]
  },
  {
   "cell_type": "markdown",
   "metadata": {},
   "source": [
    "## How much time is spent on Education vs. PISA Score by Country"
   ]
  },
  {
   "cell_type": "code",
   "execution_count": 2,
   "metadata": {},
   "outputs": [
    {
     "data": {
      "text/html": [
       "<div>\n",
       "<style scoped>\n",
       "    .dataframe tbody tr th:only-of-type {\n",
       "        vertical-align: middle;\n",
       "    }\n",
       "\n",
       "    .dataframe tbody tr th {\n",
       "        vertical-align: top;\n",
       "    }\n",
       "\n",
       "    .dataframe thead th {\n",
       "        text-align: right;\n",
       "    }\n",
       "</style>\n",
       "<table border=\"1\" class=\"dataframe\">\n",
       "  <thead>\n",
       "    <tr style=\"text-align: right;\">\n",
       "      <th></th>\n",
       "      <th>Country</th>\n",
       "      <th>Category</th>\n",
       "      <th>Time (hours)</th>\n",
       "    </tr>\n",
       "  </thead>\n",
       "  <tbody>\n",
       "    <tr>\n",
       "      <th>0</th>\n",
       "      <td>Australia</td>\n",
       "      <td>Paid work</td>\n",
       "      <td>211.146630</td>\n",
       "    </tr>\n",
       "    <tr>\n",
       "      <th>1</th>\n",
       "      <td>Austria</td>\n",
       "      <td>Paid work</td>\n",
       "      <td>279.532268</td>\n",
       "    </tr>\n",
       "    <tr>\n",
       "      <th>2</th>\n",
       "      <td>Belgium</td>\n",
       "      <td>Paid work</td>\n",
       "      <td>194.476452</td>\n",
       "    </tr>\n",
       "    <tr>\n",
       "      <th>3</th>\n",
       "      <td>Canada</td>\n",
       "      <td>Paid work</td>\n",
       "      <td>268.660610</td>\n",
       "    </tr>\n",
       "    <tr>\n",
       "      <th>4</th>\n",
       "      <td>Denmark</td>\n",
       "      <td>Paid work</td>\n",
       "      <td>199.771596</td>\n",
       "    </tr>\n",
       "  </tbody>\n",
       "</table>\n",
       "</div>"
      ],
      "text/plain": [
       "     Country   Category  Time (hours)\n",
       "0  Australia  Paid work    211.146630\n",
       "1    Austria  Paid work    279.532268\n",
       "2    Belgium  Paid work    194.476452\n",
       "3     Canada  Paid work    268.660610\n",
       "4    Denmark  Paid work    199.771596"
      ]
     },
     "execution_count": 2,
     "metadata": {},
     "output_type": "execute_result"
    }
   ],
   "source": [
    "# read the time spent on different activities\n",
    "excel_file = \"Resources/Time-Use-in-OECD-Countries-OECD.xlsx\"\n",
    "time_use_df = pd.read_excel(excel_file)\n",
    "time_use_df.head()"
   ]
  },
  {
   "cell_type": "code",
   "execution_count": 23,
   "metadata": {},
   "outputs": [],
   "source": [
    "# Get unique values to create the catalog for the category table\n",
    "categories = time_use_df[\"Category\"].unique()"
   ]
  },
  {
   "cell_type": "code",
   "execution_count": 24,
   "metadata": {},
   "outputs": [],
   "source": [
    "# Get unique values to create the catalog for the country table\n",
    "countries = time_use_df[\"Country\"].unique()"
   ]
  },
  {
   "cell_type": "code",
   "execution_count": 5,
   "metadata": {},
   "outputs": [
    {
     "data": {
      "text/html": [
       "<div>\n",
       "<style scoped>\n",
       "    .dataframe tbody tr th:only-of-type {\n",
       "        vertical-align: middle;\n",
       "    }\n",
       "\n",
       "    .dataframe tbody tr th {\n",
       "        vertical-align: top;\n",
       "    }\n",
       "\n",
       "    .dataframe thead th {\n",
       "        text-align: right;\n",
       "    }\n",
       "</style>\n",
       "<table border=\"1\" class=\"dataframe\">\n",
       "  <thead>\n",
       "    <tr style=\"text-align: right;\">\n",
       "      <th></th>\n",
       "      <th>Entity</th>\n",
       "      <th>Code</th>\n",
       "      <th>Year</th>\n",
       "      <th>PISA: Mean performance on the science scale</th>\n",
       "    </tr>\n",
       "  </thead>\n",
       "  <tbody>\n",
       "    <tr>\n",
       "      <th>0</th>\n",
       "      <td>Albania</td>\n",
       "      <td>ALB</td>\n",
       "      <td>2000</td>\n",
       "      <td>376.453214</td>\n",
       "    </tr>\n",
       "    <tr>\n",
       "      <th>1</th>\n",
       "      <td>Albania</td>\n",
       "      <td>ALB</td>\n",
       "      <td>2009</td>\n",
       "      <td>390.695746</td>\n",
       "    </tr>\n",
       "    <tr>\n",
       "      <th>2</th>\n",
       "      <td>Albania</td>\n",
       "      <td>ALB</td>\n",
       "      <td>2012</td>\n",
       "      <td>397.373214</td>\n",
       "    </tr>\n",
       "    <tr>\n",
       "      <th>3</th>\n",
       "      <td>Albania</td>\n",
       "      <td>ALB</td>\n",
       "      <td>2015</td>\n",
       "      <td>427.225000</td>\n",
       "    </tr>\n",
       "    <tr>\n",
       "      <th>4</th>\n",
       "      <td>Algeria</td>\n",
       "      <td>DZA</td>\n",
       "      <td>2015</td>\n",
       "      <td>375.745100</td>\n",
       "    </tr>\n",
       "  </tbody>\n",
       "</table>\n",
       "</div>"
      ],
      "text/plain": [
       "    Entity Code  Year  PISA: Mean performance on the science scale\n",
       "0  Albania  ALB  2000                                   376.453214\n",
       "1  Albania  ALB  2009                                   390.695746\n",
       "2  Albania  ALB  2012                                   397.373214\n",
       "3  Albania  ALB  2015                                   427.225000\n",
       "4  Algeria  DZA  2015                                   375.745100"
      ]
     },
     "execution_count": 5,
     "metadata": {},
     "output_type": "execute_result"
    }
   ],
   "source": [
    "# read the PISA score from each country (educational score)\n",
    "csv_file = \"Resources/pisa-test-score-mean-performance-on-the-science-scale.csv\"\n",
    "pisa_df = pd.read_csv(csv_file)\n",
    "pisa_df.head()"
   ]
  },
  {
   "cell_type": "markdown",
   "metadata": {},
   "source": [
    "## Alcohol Consumption vs. Eating and Drinking time spent by Country "
   ]
  },
  {
   "cell_type": "code",
   "execution_count": 6,
   "metadata": {},
   "outputs": [
    {
     "data": {
      "text/html": [
       "<div>\n",
       "<style scoped>\n",
       "    .dataframe tbody tr th:only-of-type {\n",
       "        vertical-align: middle;\n",
       "    }\n",
       "\n",
       "    .dataframe tbody tr th {\n",
       "        vertical-align: top;\n",
       "    }\n",
       "\n",
       "    .dataframe thead th {\n",
       "        text-align: right;\n",
       "    }\n",
       "</style>\n",
       "<table border=\"1\" class=\"dataframe\">\n",
       "  <thead>\n",
       "    <tr style=\"text-align: right;\">\n",
       "      <th></th>\n",
       "      <th>Country</th>\n",
       "      <th>Data Source</th>\n",
       "      <th>Beverage Types</th>\n",
       "      <th>2018</th>\n",
       "      <th>2017</th>\n",
       "      <th>2016</th>\n",
       "      <th>2015</th>\n",
       "      <th>2014</th>\n",
       "      <th>2013</th>\n",
       "      <th>2012</th>\n",
       "      <th>2011</th>\n",
       "      <th>2010</th>\n",
       "    </tr>\n",
       "  </thead>\n",
       "  <tbody>\n",
       "    <tr>\n",
       "      <th>0</th>\n",
       "      <td>Afghanistan</td>\n",
       "      <td>Data source</td>\n",
       "      <td>All types</td>\n",
       "      <td>0.01</td>\n",
       "      <td>0.01</td>\n",
       "      <td>0.02</td>\n",
       "      <td>0.0</td>\n",
       "      <td>0.01</td>\n",
       "      <td>0.01</td>\n",
       "      <td>0.01</td>\n",
       "      <td>0.01</td>\n",
       "      <td>0.01</td>\n",
       "    </tr>\n",
       "    <tr>\n",
       "      <th>1</th>\n",
       "      <td>Afghanistan</td>\n",
       "      <td>Data source</td>\n",
       "      <td>Beer</td>\n",
       "      <td>0.00</td>\n",
       "      <td>0.00</td>\n",
       "      <td>0.00</td>\n",
       "      <td>0.0</td>\n",
       "      <td>0.00</td>\n",
       "      <td>0.01</td>\n",
       "      <td>0.01</td>\n",
       "      <td>0.01</td>\n",
       "      <td>0.01</td>\n",
       "    </tr>\n",
       "    <tr>\n",
       "      <th>2</th>\n",
       "      <td>Afghanistan</td>\n",
       "      <td>Data source</td>\n",
       "      <td>Wine</td>\n",
       "      <td>0.00</td>\n",
       "      <td>0.00</td>\n",
       "      <td>0.00</td>\n",
       "      <td>0.0</td>\n",
       "      <td>0.00</td>\n",
       "      <td>0.00</td>\n",
       "      <td>0.00</td>\n",
       "      <td>0.00</td>\n",
       "      <td>0.00</td>\n",
       "    </tr>\n",
       "    <tr>\n",
       "      <th>3</th>\n",
       "      <td>Afghanistan</td>\n",
       "      <td>Data source</td>\n",
       "      <td>Spirits</td>\n",
       "      <td>0.01</td>\n",
       "      <td>0.01</td>\n",
       "      <td>0.01</td>\n",
       "      <td>0.0</td>\n",
       "      <td>0.01</td>\n",
       "      <td>0.00</td>\n",
       "      <td>0.00</td>\n",
       "      <td>0.00</td>\n",
       "      <td>0.00</td>\n",
       "    </tr>\n",
       "    <tr>\n",
       "      <th>4</th>\n",
       "      <td>Afghanistan</td>\n",
       "      <td>Data source</td>\n",
       "      <td>Other alcoholic beverages</td>\n",
       "      <td>0.00</td>\n",
       "      <td>0.00</td>\n",
       "      <td>0.00</td>\n",
       "      <td>0.0</td>\n",
       "      <td>0.00</td>\n",
       "      <td>0.00</td>\n",
       "      <td>0.00</td>\n",
       "      <td>0.00</td>\n",
       "      <td>0.00</td>\n",
       "    </tr>\n",
       "  </tbody>\n",
       "</table>\n",
       "</div>"
      ],
      "text/plain": [
       "       Country   Data Source              Beverage Types  2018  2017  2016  \\\n",
       "0  Afghanistan   Data source                   All types  0.01  0.01  0.02   \n",
       "1  Afghanistan   Data source                        Beer  0.00  0.00  0.00   \n",
       "2  Afghanistan   Data source                        Wine  0.00  0.00  0.00   \n",
       "3  Afghanistan   Data source                     Spirits  0.01  0.01  0.01   \n",
       "4  Afghanistan   Data source   Other alcoholic beverages  0.00  0.00  0.00   \n",
       "\n",
       "   2015  2014  2013  2012  2011  2010  \n",
       "0   0.0  0.01  0.01  0.01  0.01  0.01  \n",
       "1   0.0  0.00  0.01  0.01  0.01  0.01  \n",
       "2   0.0  0.00  0.00  0.00  0.00  0.00  \n",
       "3   0.0  0.01  0.00  0.00  0.00  0.00  \n",
       "4   0.0  0.00  0.00  0.00  0.00  0.00  "
      ]
     },
     "execution_count": 6,
     "metadata": {},
     "output_type": "execute_result"
    }
   ],
   "source": [
    "# read the Alcohol consumption by Country (pure alcohol in liters)\n",
    "xmart_csv = \"Resources/xmart.csv\"\n",
    "xmart_df = pd.read_csv(xmart_csv)\n",
    "xmart_df.head()"
   ]
  },
  {
   "cell_type": "code",
   "execution_count": null,
   "metadata": {},
   "outputs": [],
   "source": []
  },
  {
   "cell_type": "code",
   "execution_count": null,
   "metadata": {},
   "outputs": [],
   "source": []
  },
  {
   "cell_type": "code",
   "execution_count": null,
   "metadata": {},
   "outputs": [],
   "source": []
  },
  {
   "cell_type": "code",
   "execution_count": null,
   "metadata": {},
   "outputs": [],
   "source": []
  },
  {
   "cell_type": "code",
   "execution_count": null,
   "metadata": {},
   "outputs": [],
   "source": []
  },
  {
   "cell_type": "code",
   "execution_count": null,
   "metadata": {},
   "outputs": [],
   "source": []
  },
  {
   "cell_type": "markdown",
   "metadata": {},
   "source": [
    "# Transform"
   ]
  },
  {
   "cell_type": "markdown",
   "metadata": {},
   "source": [
    "## How much time is spent on Education vs. PISA Score by Country"
   ]
  },
  {
   "cell_type": "code",
   "execution_count": 7,
   "metadata": {},
   "outputs": [
    {
     "data": {
      "text/html": [
       "<div>\n",
       "<style scoped>\n",
       "    .dataframe tbody tr th:only-of-type {\n",
       "        vertical-align: middle;\n",
       "    }\n",
       "\n",
       "    .dataframe tbody tr th {\n",
       "        vertical-align: top;\n",
       "    }\n",
       "\n",
       "    .dataframe thead th {\n",
       "        text-align: right;\n",
       "    }\n",
       "</style>\n",
       "<table border=\"1\" class=\"dataframe\">\n",
       "  <thead>\n",
       "    <tr style=\"text-align: right;\">\n",
       "      <th></th>\n",
       "      <th>Entity</th>\n",
       "      <th>Code</th>\n",
       "      <th>Year</th>\n",
       "      <th>PISA: Mean performance on the science scale</th>\n",
       "    </tr>\n",
       "  </thead>\n",
       "  <tbody>\n",
       "    <tr>\n",
       "      <th>3</th>\n",
       "      <td>Albania</td>\n",
       "      <td>ALB</td>\n",
       "      <td>2015</td>\n",
       "      <td>427.2250</td>\n",
       "    </tr>\n",
       "    <tr>\n",
       "      <th>4</th>\n",
       "      <td>Algeria</td>\n",
       "      <td>DZA</td>\n",
       "      <td>2015</td>\n",
       "      <td>375.7451</td>\n",
       "    </tr>\n",
       "    <tr>\n",
       "      <th>9</th>\n",
       "      <td>Argentina</td>\n",
       "      <td>ARG</td>\n",
       "      <td>2015</td>\n",
       "      <td>432.2262</td>\n",
       "    </tr>\n",
       "    <tr>\n",
       "      <th>15</th>\n",
       "      <td>Australia</td>\n",
       "      <td>AUS</td>\n",
       "      <td>2015</td>\n",
       "      <td>509.9939</td>\n",
       "    </tr>\n",
       "    <tr>\n",
       "      <th>21</th>\n",
       "      <td>Austria</td>\n",
       "      <td>AUT</td>\n",
       "      <td>2015</td>\n",
       "      <td>495.0375</td>\n",
       "    </tr>\n",
       "  </tbody>\n",
       "</table>\n",
       "</div>"
      ],
      "text/plain": [
       "       Entity Code  Year  PISA: Mean performance on the science scale\n",
       "3     Albania  ALB  2015                                     427.2250\n",
       "4     Algeria  DZA  2015                                     375.7451\n",
       "9   Argentina  ARG  2015                                     432.2262\n",
       "15  Australia  AUS  2015                                     509.9939\n",
       "21    Austria  AUT  2015                                     495.0375"
      ]
     },
     "execution_count": 7,
     "metadata": {},
     "output_type": "execute_result"
    }
   ],
   "source": [
    "# Clean dataframe to have only the most recent score data\n",
    "year = pisa_df[\"Year\"] == 2015\n",
    "pisa_2015_df = pisa_df.loc[year]\n",
    "pisa_2015_df.head()"
   ]
  },
  {
   "cell_type": "code",
   "execution_count": 8,
   "metadata": {},
   "outputs": [
    {
     "data": {
      "text/html": [
       "<div>\n",
       "<style scoped>\n",
       "    .dataframe tbody tr th:only-of-type {\n",
       "        vertical-align: middle;\n",
       "    }\n",
       "\n",
       "    .dataframe tbody tr th {\n",
       "        vertical-align: top;\n",
       "    }\n",
       "\n",
       "    .dataframe thead th {\n",
       "        text-align: right;\n",
       "    }\n",
       "</style>\n",
       "<table border=\"1\" class=\"dataframe\">\n",
       "  <thead>\n",
       "    <tr style=\"text-align: right;\">\n",
       "      <th></th>\n",
       "      <th>Country</th>\n",
       "      <th>Category</th>\n",
       "      <th>Time (hours)</th>\n",
       "    </tr>\n",
       "  </thead>\n",
       "  <tbody>\n",
       "    <tr>\n",
       "      <th>33</th>\n",
       "      <td>Australia</td>\n",
       "      <td>Education</td>\n",
       "      <td>27.018763</td>\n",
       "    </tr>\n",
       "    <tr>\n",
       "      <th>34</th>\n",
       "      <td>Austria</td>\n",
       "      <td>Education</td>\n",
       "      <td>26.897949</td>\n",
       "    </tr>\n",
       "    <tr>\n",
       "      <th>35</th>\n",
       "      <td>Belgium</td>\n",
       "      <td>Education</td>\n",
       "      <td>41.277172</td>\n",
       "    </tr>\n",
       "    <tr>\n",
       "      <th>36</th>\n",
       "      <td>Canada</td>\n",
       "      <td>Education</td>\n",
       "      <td>35.980637</td>\n",
       "    </tr>\n",
       "    <tr>\n",
       "      <th>37</th>\n",
       "      <td>Denmark</td>\n",
       "      <td>Education</td>\n",
       "      <td>25.044998</td>\n",
       "    </tr>\n",
       "  </tbody>\n",
       "</table>\n",
       "</div>"
      ],
      "text/plain": [
       "      Country   Category  Time (hours)\n",
       "33  Australia  Education     27.018763\n",
       "34    Austria  Education     26.897949\n",
       "35    Belgium  Education     41.277172\n",
       "36     Canada  Education     35.980637\n",
       "37    Denmark  Education     25.044998"
      ]
     },
     "execution_count": 8,
     "metadata": {},
     "output_type": "execute_result"
    }
   ],
   "source": [
    "# Get only the time spent on education by country\n",
    "education = time_use_df[\"Category\"] == \"Education\"\n",
    "time_use_education_df = time_use_df.loc[education]\n",
    "time_use_education_df.head()"
   ]
  },
  {
   "cell_type": "code",
   "execution_count": 9,
   "metadata": {},
   "outputs": [
    {
     "data": {
      "text/html": [
       "<div>\n",
       "<style scoped>\n",
       "    .dataframe tbody tr th:only-of-type {\n",
       "        vertical-align: middle;\n",
       "    }\n",
       "\n",
       "    .dataframe tbody tr th {\n",
       "        vertical-align: top;\n",
       "    }\n",
       "\n",
       "    .dataframe thead th {\n",
       "        text-align: right;\n",
       "    }\n",
       "</style>\n",
       "<table border=\"1\" class=\"dataframe\">\n",
       "  <thead>\n",
       "    <tr style=\"text-align: right;\">\n",
       "      <th></th>\n",
       "      <th>Country</th>\n",
       "      <th>Category</th>\n",
       "      <th>Time (hours)</th>\n",
       "      <th>Entity</th>\n",
       "      <th>Code</th>\n",
       "      <th>Year</th>\n",
       "      <th>PISA: Mean performance on the science scale</th>\n",
       "    </tr>\n",
       "  </thead>\n",
       "  <tbody>\n",
       "    <tr>\n",
       "      <th>0</th>\n",
       "      <td>Australia</td>\n",
       "      <td>Education</td>\n",
       "      <td>27.018763</td>\n",
       "      <td>Australia</td>\n",
       "      <td>AUS</td>\n",
       "      <td>2015</td>\n",
       "      <td>509.9939</td>\n",
       "    </tr>\n",
       "    <tr>\n",
       "      <th>1</th>\n",
       "      <td>Austria</td>\n",
       "      <td>Education</td>\n",
       "      <td>26.897949</td>\n",
       "      <td>Austria</td>\n",
       "      <td>AUT</td>\n",
       "      <td>2015</td>\n",
       "      <td>495.0375</td>\n",
       "    </tr>\n",
       "    <tr>\n",
       "      <th>2</th>\n",
       "      <td>Belgium</td>\n",
       "      <td>Education</td>\n",
       "      <td>41.277172</td>\n",
       "      <td>Belgium</td>\n",
       "      <td>BEL</td>\n",
       "      <td>2015</td>\n",
       "      <td>501.9997</td>\n",
       "    </tr>\n",
       "    <tr>\n",
       "      <th>3</th>\n",
       "      <td>Canada</td>\n",
       "      <td>Education</td>\n",
       "      <td>35.980637</td>\n",
       "      <td>Canada</td>\n",
       "      <td>CAN</td>\n",
       "      <td>2015</td>\n",
       "      <td>527.7047</td>\n",
       "    </tr>\n",
       "    <tr>\n",
       "      <th>4</th>\n",
       "      <td>Denmark</td>\n",
       "      <td>Education</td>\n",
       "      <td>25.044998</td>\n",
       "      <td>Denmark</td>\n",
       "      <td>DNK</td>\n",
       "      <td>2015</td>\n",
       "      <td>501.9369</td>\n",
       "    </tr>\n",
       "  </tbody>\n",
       "</table>\n",
       "</div>"
      ],
      "text/plain": [
       "     Country   Category  Time (hours)     Entity Code  Year  \\\n",
       "0  Australia  Education     27.018763  Australia  AUS  2015   \n",
       "1    Austria  Education     26.897949    Austria  AUT  2015   \n",
       "2    Belgium  Education     41.277172    Belgium  BEL  2015   \n",
       "3     Canada  Education     35.980637     Canada  CAN  2015   \n",
       "4    Denmark  Education     25.044998    Denmark  DNK  2015   \n",
       "\n",
       "   PISA: Mean performance on the science scale  \n",
       "0                                     509.9939  \n",
       "1                                     495.0375  \n",
       "2                                     501.9997  \n",
       "3                                     527.7047  \n",
       "4                                     501.9369  "
      ]
     },
     "execution_count": 9,
     "metadata": {},
     "output_type": "execute_result"
    }
   ],
   "source": [
    "# Merge two data sets into one by country\n",
    "education_df = time_use_education_df.merge(pisa_2015_df, left_on=\"Country\", right_on=\"Entity\")\n",
    "education_df.head()"
   ]
  },
  {
   "cell_type": "code",
   "execution_count": 10,
   "metadata": {},
   "outputs": [
    {
     "data": {
      "text/html": [
       "<div>\n",
       "<style scoped>\n",
       "    .dataframe tbody tr th:only-of-type {\n",
       "        vertical-align: middle;\n",
       "    }\n",
       "\n",
       "    .dataframe tbody tr th {\n",
       "        vertical-align: top;\n",
       "    }\n",
       "\n",
       "    .dataframe thead th {\n",
       "        text-align: right;\n",
       "    }\n",
       "</style>\n",
       "<table border=\"1\" class=\"dataframe\">\n",
       "  <thead>\n",
       "    <tr style=\"text-align: right;\">\n",
       "      <th></th>\n",
       "      <th>Country</th>\n",
       "      <th>Time (hours)</th>\n",
       "      <th>Year</th>\n",
       "      <th>PISA: Mean performance on the science scale</th>\n",
       "    </tr>\n",
       "  </thead>\n",
       "  <tbody>\n",
       "    <tr>\n",
       "      <th>0</th>\n",
       "      <td>Australia</td>\n",
       "      <td>27.018763</td>\n",
       "      <td>2015</td>\n",
       "      <td>509.9939</td>\n",
       "    </tr>\n",
       "    <tr>\n",
       "      <th>1</th>\n",
       "      <td>Austria</td>\n",
       "      <td>26.897949</td>\n",
       "      <td>2015</td>\n",
       "      <td>495.0375</td>\n",
       "    </tr>\n",
       "    <tr>\n",
       "      <th>2</th>\n",
       "      <td>Belgium</td>\n",
       "      <td>41.277172</td>\n",
       "      <td>2015</td>\n",
       "      <td>501.9997</td>\n",
       "    </tr>\n",
       "    <tr>\n",
       "      <th>3</th>\n",
       "      <td>Canada</td>\n",
       "      <td>35.980637</td>\n",
       "      <td>2015</td>\n",
       "      <td>527.7047</td>\n",
       "    </tr>\n",
       "    <tr>\n",
       "      <th>4</th>\n",
       "      <td>Denmark</td>\n",
       "      <td>25.044998</td>\n",
       "      <td>2015</td>\n",
       "      <td>501.9369</td>\n",
       "    </tr>\n",
       "  </tbody>\n",
       "</table>\n",
       "</div>"
      ],
      "text/plain": [
       "     Country  Time (hours)  Year  PISA: Mean performance on the science scale\n",
       "0  Australia     27.018763  2015                                     509.9939\n",
       "1    Austria     26.897949  2015                                     495.0375\n",
       "2    Belgium     41.277172  2015                                     501.9997\n",
       "3     Canada     35.980637  2015                                     527.7047\n",
       "4    Denmark     25.044998  2015                                     501.9369"
      ]
     },
     "execution_count": 10,
     "metadata": {},
     "output_type": "execute_result"
    }
   ],
   "source": [
    "# delete columns that we don't need\n",
    "education_df.drop(['Entity', 'Code', 'Category'], axis=1, inplace=True)\n",
    "education_df.head()"
   ]
  },
  {
   "cell_type": "code",
   "execution_count": 11,
   "metadata": {},
   "outputs": [
    {
     "data": {
      "text/plain": [
       "Index(['Country', 'Time (hours)', 'Year',\n",
       "       'PISA: Mean performance on the science scale'],\n",
       "      dtype='object')"
      ]
     },
     "execution_count": 11,
     "metadata": {},
     "output_type": "execute_result"
    }
   ],
   "source": [
    "education_df.columns"
   ]
  },
  {
   "cell_type": "markdown",
   "metadata": {},
   "source": [
    "## Alcohol Consumption vs. Eating and Drinking time spent by Country "
   ]
  },
  {
   "cell_type": "code",
   "execution_count": 12,
   "metadata": {},
   "outputs": [
    {
     "data": {
      "text/html": [
       "<div>\n",
       "<style scoped>\n",
       "    .dataframe tbody tr th:only-of-type {\n",
       "        vertical-align: middle;\n",
       "    }\n",
       "\n",
       "    .dataframe tbody tr th {\n",
       "        vertical-align: top;\n",
       "    }\n",
       "\n",
       "    .dataframe thead th {\n",
       "        text-align: right;\n",
       "    }\n",
       "</style>\n",
       "<table border=\"1\" class=\"dataframe\">\n",
       "  <thead>\n",
       "    <tr style=\"text-align: right;\">\n",
       "      <th></th>\n",
       "      <th>Country</th>\n",
       "      <th>Category</th>\n",
       "      <th>Time (hours)</th>\n",
       "    </tr>\n",
       "  </thead>\n",
       "  <tbody>\n",
       "    <tr>\n",
       "      <th>231</th>\n",
       "      <td>Australia</td>\n",
       "      <td>Eating and drinking</td>\n",
       "      <td>89.061849</td>\n",
       "    </tr>\n",
       "    <tr>\n",
       "      <th>232</th>\n",
       "      <td>Austria</td>\n",
       "      <td>Eating and drinking</td>\n",
       "      <td>78.836406</td>\n",
       "    </tr>\n",
       "    <tr>\n",
       "      <th>233</th>\n",
       "      <td>Belgium</td>\n",
       "      <td>Eating and drinking</td>\n",
       "      <td>98.516408</td>\n",
       "    </tr>\n",
       "    <tr>\n",
       "      <th>234</th>\n",
       "      <td>Canada</td>\n",
       "      <td>Eating and drinking</td>\n",
       "      <td>64.819713</td>\n",
       "    </tr>\n",
       "    <tr>\n",
       "      <th>235</th>\n",
       "      <td>Denmark</td>\n",
       "      <td>Eating and drinking</td>\n",
       "      <td>119.153410</td>\n",
       "    </tr>\n",
       "  </tbody>\n",
       "</table>\n",
       "</div>"
      ],
      "text/plain": [
       "       Country             Category  Time (hours)\n",
       "231  Australia  Eating and drinking     89.061849\n",
       "232    Austria  Eating and drinking     78.836406\n",
       "233    Belgium  Eating and drinking     98.516408\n",
       "234     Canada  Eating and drinking     64.819713\n",
       "235    Denmark  Eating and drinking    119.153410"
      ]
     },
     "execution_count": 12,
     "metadata": {},
     "output_type": "execute_result"
    }
   ],
   "source": [
    "# Filter data set to get time spent on \"eating and drinking\"\n",
    "eat_var = time_use_df[\"Category\"] == 'Eating and drinking'\n",
    "eat_drink_time_df = time_use_df.loc[eat_var]\n",
    "eat_drink_time_df.head()"
   ]
  },
  {
   "cell_type": "code",
   "execution_count": 13,
   "metadata": {},
   "outputs": [
    {
     "data": {
      "text/html": [
       "<div>\n",
       "<style scoped>\n",
       "    .dataframe tbody tr th:only-of-type {\n",
       "        vertical-align: middle;\n",
       "    }\n",
       "\n",
       "    .dataframe tbody tr th {\n",
       "        vertical-align: top;\n",
       "    }\n",
       "\n",
       "    .dataframe thead th {\n",
       "        text-align: right;\n",
       "    }\n",
       "</style>\n",
       "<table border=\"1\" class=\"dataframe\">\n",
       "  <thead>\n",
       "    <tr style=\"text-align: right;\">\n",
       "      <th></th>\n",
       "      <th>Country</th>\n",
       "      <th>Data Source</th>\n",
       "      <th>Beverage Types</th>\n",
       "      <th>2018</th>\n",
       "      <th>2017</th>\n",
       "      <th>2016</th>\n",
       "      <th>2015</th>\n",
       "      <th>2014</th>\n",
       "      <th>2013</th>\n",
       "      <th>2012</th>\n",
       "      <th>2011</th>\n",
       "      <th>2010</th>\n",
       "    </tr>\n",
       "  </thead>\n",
       "  <tbody>\n",
       "    <tr>\n",
       "      <th>0</th>\n",
       "      <td>Afghanistan</td>\n",
       "      <td>Data source</td>\n",
       "      <td>All types</td>\n",
       "      <td>0.01</td>\n",
       "      <td>0.01</td>\n",
       "      <td>0.02</td>\n",
       "      <td>0.00</td>\n",
       "      <td>0.01</td>\n",
       "      <td>0.01</td>\n",
       "      <td>0.01</td>\n",
       "      <td>0.01</td>\n",
       "      <td>0.01</td>\n",
       "    </tr>\n",
       "    <tr>\n",
       "      <th>5</th>\n",
       "      <td>Albania</td>\n",
       "      <td>Data source</td>\n",
       "      <td>All types</td>\n",
       "      <td>4.70</td>\n",
       "      <td>4.75</td>\n",
       "      <td>4.67</td>\n",
       "      <td>4.54</td>\n",
       "      <td>4.33</td>\n",
       "      <td>4.54</td>\n",
       "      <td>4.74</td>\n",
       "      <td>5.42</td>\n",
       "      <td>5.28</td>\n",
       "    </tr>\n",
       "    <tr>\n",
       "      <th>10</th>\n",
       "      <td>Algeria</td>\n",
       "      <td>Data source</td>\n",
       "      <td>All types</td>\n",
       "      <td>0.58</td>\n",
       "      <td>0.58</td>\n",
       "      <td>0.60</td>\n",
       "      <td>0.58</td>\n",
       "      <td>0.54</td>\n",
       "      <td>0.50</td>\n",
       "      <td>0.43</td>\n",
       "      <td>0.40</td>\n",
       "      <td>0.35</td>\n",
       "    </tr>\n",
       "    <tr>\n",
       "      <th>15</th>\n",
       "      <td>Andorra</td>\n",
       "      <td>Data source</td>\n",
       "      <td>All types</td>\n",
       "      <td>9.75</td>\n",
       "      <td>9.93</td>\n",
       "      <td>9.94</td>\n",
       "      <td>9.85</td>\n",
       "      <td>9.89</td>\n",
       "      <td>10.07</td>\n",
       "      <td>10.34</td>\n",
       "      <td>10.46</td>\n",
       "      <td>10.58</td>\n",
       "    </tr>\n",
       "    <tr>\n",
       "      <th>20</th>\n",
       "      <td>Angola</td>\n",
       "      <td>Data source</td>\n",
       "      <td>All types</td>\n",
       "      <td>5.35</td>\n",
       "      <td>5.47</td>\n",
       "      <td>5.38</td>\n",
       "      <td>5.94</td>\n",
       "      <td>7.49</td>\n",
       "      <td>7.01</td>\n",
       "      <td>7.14</td>\n",
       "      <td>6.95</td>\n",
       "      <td>6.83</td>\n",
       "    </tr>\n",
       "  </tbody>\n",
       "</table>\n",
       "</div>"
      ],
      "text/plain": [
       "        Country   Data Source Beverage Types  2018  2017  2016  2015  2014  \\\n",
       "0   Afghanistan   Data source      All types  0.01  0.01  0.02  0.00  0.01   \n",
       "5       Albania   Data source      All types  4.70  4.75  4.67  4.54  4.33   \n",
       "10      Algeria   Data source      All types  0.58  0.58  0.60  0.58  0.54   \n",
       "15      Andorra   Data source      All types  9.75  9.93  9.94  9.85  9.89   \n",
       "20       Angola   Data source      All types  5.35  5.47  5.38  5.94  7.49   \n",
       "\n",
       "     2013   2012   2011   2010  \n",
       "0    0.01   0.01   0.01   0.01  \n",
       "5    4.54   4.74   5.42   5.28  \n",
       "10   0.50   0.43   0.40   0.35  \n",
       "15  10.07  10.34  10.46  10.58  \n",
       "20   7.01   7.14   6.95   6.83  "
      ]
     },
     "execution_count": 13,
     "metadata": {},
     "output_type": "execute_result"
    }
   ],
   "source": [
    "# Filter data set to get time spent on \"eating and drinking\"\n",
    "all_var = xmart_df[\"Beverage Types\"] == ' All types'\n",
    "consumption_all_df = xmart_df.loc[all_var]\n",
    "consumption_all_df.head()"
   ]
  },
  {
   "cell_type": "code",
   "execution_count": 14,
   "metadata": {},
   "outputs": [
    {
     "name": "stderr",
     "output_type": "stream",
     "text": [
      "<ipython-input-14-79f839545059>:1: SettingWithCopyWarning: \n",
      "A value is trying to be set on a copy of a slice from a DataFrame.\n",
      "Try using .loc[row_indexer,col_indexer] = value instead\n",
      "\n",
      "See the caveats in the documentation: https://pandas.pydata.org/pandas-docs/stable/user_guide/indexing.html#returning-a-view-versus-a-copy\n",
      "  consumption_all_df[\"Avg\"] = consumption_all_df[[\"2010\",\"2011\",\"2012\",\"2013\",\"2014\",\"2015\"]].mean(axis=1)\n"
     ]
    },
    {
     "data": {
      "text/html": [
       "<div>\n",
       "<style scoped>\n",
       "    .dataframe tbody tr th:only-of-type {\n",
       "        vertical-align: middle;\n",
       "    }\n",
       "\n",
       "    .dataframe tbody tr th {\n",
       "        vertical-align: top;\n",
       "    }\n",
       "\n",
       "    .dataframe thead th {\n",
       "        text-align: right;\n",
       "    }\n",
       "</style>\n",
       "<table border=\"1\" class=\"dataframe\">\n",
       "  <thead>\n",
       "    <tr style=\"text-align: right;\">\n",
       "      <th></th>\n",
       "      <th>Country</th>\n",
       "      <th>Data Source</th>\n",
       "      <th>Beverage Types</th>\n",
       "      <th>2018</th>\n",
       "      <th>2017</th>\n",
       "      <th>2016</th>\n",
       "      <th>2015</th>\n",
       "      <th>2014</th>\n",
       "      <th>2013</th>\n",
       "      <th>2012</th>\n",
       "      <th>2011</th>\n",
       "      <th>2010</th>\n",
       "      <th>Avg</th>\n",
       "    </tr>\n",
       "  </thead>\n",
       "  <tbody>\n",
       "    <tr>\n",
       "      <th>0</th>\n",
       "      <td>Afghanistan</td>\n",
       "      <td>Data source</td>\n",
       "      <td>All types</td>\n",
       "      <td>0.01</td>\n",
       "      <td>0.01</td>\n",
       "      <td>0.02</td>\n",
       "      <td>0.00</td>\n",
       "      <td>0.01</td>\n",
       "      <td>0.01</td>\n",
       "      <td>0.01</td>\n",
       "      <td>0.01</td>\n",
       "      <td>0.01</td>\n",
       "      <td>0.008333</td>\n",
       "    </tr>\n",
       "    <tr>\n",
       "      <th>5</th>\n",
       "      <td>Albania</td>\n",
       "      <td>Data source</td>\n",
       "      <td>All types</td>\n",
       "      <td>4.70</td>\n",
       "      <td>4.75</td>\n",
       "      <td>4.67</td>\n",
       "      <td>4.54</td>\n",
       "      <td>4.33</td>\n",
       "      <td>4.54</td>\n",
       "      <td>4.74</td>\n",
       "      <td>5.42</td>\n",
       "      <td>5.28</td>\n",
       "      <td>4.808333</td>\n",
       "    </tr>\n",
       "    <tr>\n",
       "      <th>10</th>\n",
       "      <td>Algeria</td>\n",
       "      <td>Data source</td>\n",
       "      <td>All types</td>\n",
       "      <td>0.58</td>\n",
       "      <td>0.58</td>\n",
       "      <td>0.60</td>\n",
       "      <td>0.58</td>\n",
       "      <td>0.54</td>\n",
       "      <td>0.50</td>\n",
       "      <td>0.43</td>\n",
       "      <td>0.40</td>\n",
       "      <td>0.35</td>\n",
       "      <td>0.466667</td>\n",
       "    </tr>\n",
       "    <tr>\n",
       "      <th>15</th>\n",
       "      <td>Andorra</td>\n",
       "      <td>Data source</td>\n",
       "      <td>All types</td>\n",
       "      <td>9.75</td>\n",
       "      <td>9.93</td>\n",
       "      <td>9.94</td>\n",
       "      <td>9.85</td>\n",
       "      <td>9.89</td>\n",
       "      <td>10.07</td>\n",
       "      <td>10.34</td>\n",
       "      <td>10.46</td>\n",
       "      <td>10.58</td>\n",
       "      <td>10.198333</td>\n",
       "    </tr>\n",
       "    <tr>\n",
       "      <th>20</th>\n",
       "      <td>Angola</td>\n",
       "      <td>Data source</td>\n",
       "      <td>All types</td>\n",
       "      <td>5.35</td>\n",
       "      <td>5.47</td>\n",
       "      <td>5.38</td>\n",
       "      <td>5.94</td>\n",
       "      <td>7.49</td>\n",
       "      <td>7.01</td>\n",
       "      <td>7.14</td>\n",
       "      <td>6.95</td>\n",
       "      <td>6.83</td>\n",
       "      <td>6.893333</td>\n",
       "    </tr>\n",
       "  </tbody>\n",
       "</table>\n",
       "</div>"
      ],
      "text/plain": [
       "        Country   Data Source Beverage Types  2018  2017  2016  2015  2014  \\\n",
       "0   Afghanistan   Data source      All types  0.01  0.01  0.02  0.00  0.01   \n",
       "5       Albania   Data source      All types  4.70  4.75  4.67  4.54  4.33   \n",
       "10      Algeria   Data source      All types  0.58  0.58  0.60  0.58  0.54   \n",
       "15      Andorra   Data source      All types  9.75  9.93  9.94  9.85  9.89   \n",
       "20       Angola   Data source      All types  5.35  5.47  5.38  5.94  7.49   \n",
       "\n",
       "     2013   2012   2011   2010        Avg  \n",
       "0    0.01   0.01   0.01   0.01   0.008333  \n",
       "5    4.54   4.74   5.42   5.28   4.808333  \n",
       "10   0.50   0.43   0.40   0.35   0.466667  \n",
       "15  10.07  10.34  10.46  10.58  10.198333  \n",
       "20   7.01   7.14   6.95   6.83   6.893333  "
      ]
     },
     "execution_count": 14,
     "metadata": {},
     "output_type": "execute_result"
    }
   ],
   "source": [
    "# get the average of the consumption of 5 years\n",
    "consumption_all_df[\"Avg\"] = consumption_all_df[[\"2010\",\"2011\",\"2012\",\"2013\",\"2014\",\"2015\"]].mean(axis=1)\n",
    "consumption_all_df.head()"
   ]
  },
  {
   "cell_type": "code",
   "execution_count": 15,
   "metadata": {},
   "outputs": [
    {
     "data": {
      "text/html": [
       "<div>\n",
       "<style scoped>\n",
       "    .dataframe tbody tr th:only-of-type {\n",
       "        vertical-align: middle;\n",
       "    }\n",
       "\n",
       "    .dataframe tbody tr th {\n",
       "        vertical-align: top;\n",
       "    }\n",
       "\n",
       "    .dataframe thead th {\n",
       "        text-align: right;\n",
       "    }\n",
       "</style>\n",
       "<table border=\"1\" class=\"dataframe\">\n",
       "  <thead>\n",
       "    <tr style=\"text-align: right;\">\n",
       "      <th></th>\n",
       "      <th>Country</th>\n",
       "      <th>Category</th>\n",
       "      <th>Time (hours)</th>\n",
       "      <th>Data Source</th>\n",
       "      <th>Beverage Types</th>\n",
       "      <th>2018</th>\n",
       "      <th>2017</th>\n",
       "      <th>2016</th>\n",
       "      <th>2015</th>\n",
       "      <th>2014</th>\n",
       "      <th>2013</th>\n",
       "      <th>2012</th>\n",
       "      <th>2011</th>\n",
       "      <th>2010</th>\n",
       "      <th>Avg</th>\n",
       "    </tr>\n",
       "  </thead>\n",
       "  <tbody>\n",
       "    <tr>\n",
       "      <th>0</th>\n",
       "      <td>Australia</td>\n",
       "      <td>Eating and drinking</td>\n",
       "      <td>89.061849</td>\n",
       "      <td>Data source</td>\n",
       "      <td>All types</td>\n",
       "      <td>9.51</td>\n",
       "      <td>9.49</td>\n",
       "      <td>9.79</td>\n",
       "      <td>9.68</td>\n",
       "      <td>9.90</td>\n",
       "      <td>10.00</td>\n",
       "      <td>10.03</td>\n",
       "      <td>10.30</td>\n",
       "      <td>10.52</td>\n",
       "      <td>10.071667</td>\n",
       "    </tr>\n",
       "    <tr>\n",
       "      <th>1</th>\n",
       "      <td>Austria</td>\n",
       "      <td>Eating and drinking</td>\n",
       "      <td>78.836406</td>\n",
       "      <td>Data source</td>\n",
       "      <td>All types</td>\n",
       "      <td>11.80</td>\n",
       "      <td>11.70</td>\n",
       "      <td>11.70</td>\n",
       "      <td>11.60</td>\n",
       "      <td>12.20</td>\n",
       "      <td>11.60</td>\n",
       "      <td>12.10</td>\n",
       "      <td>11.90</td>\n",
       "      <td>12.10</td>\n",
       "      <td>11.916667</td>\n",
       "    </tr>\n",
       "    <tr>\n",
       "      <th>2</th>\n",
       "      <td>Belgium</td>\n",
       "      <td>Eating and drinking</td>\n",
       "      <td>98.516408</td>\n",
       "      <td>Data source</td>\n",
       "      <td>All types</td>\n",
       "      <td>9.42</td>\n",
       "      <td>9.42</td>\n",
       "      <td>9.42</td>\n",
       "      <td>10.36</td>\n",
       "      <td>10.57</td>\n",
       "      <td>10.33</td>\n",
       "      <td>10.09</td>\n",
       "      <td>10.14</td>\n",
       "      <td>10.27</td>\n",
       "      <td>10.293333</td>\n",
       "    </tr>\n",
       "    <tr>\n",
       "      <th>3</th>\n",
       "      <td>Canada</td>\n",
       "      <td>Eating and drinking</td>\n",
       "      <td>64.819713</td>\n",
       "      <td>Data source</td>\n",
       "      <td>All types</td>\n",
       "      <td>8.20</td>\n",
       "      <td>8.20</td>\n",
       "      <td>8.10</td>\n",
       "      <td>8.00</td>\n",
       "      <td>8.00</td>\n",
       "      <td>8.20</td>\n",
       "      <td>8.30</td>\n",
       "      <td>8.20</td>\n",
       "      <td>8.30</td>\n",
       "      <td>8.166667</td>\n",
       "    </tr>\n",
       "    <tr>\n",
       "      <th>4</th>\n",
       "      <td>Denmark</td>\n",
       "      <td>Eating and drinking</td>\n",
       "      <td>119.153410</td>\n",
       "      <td>Data source</td>\n",
       "      <td>All types</td>\n",
       "      <td>9.31</td>\n",
       "      <td>9.30</td>\n",
       "      <td>9.51</td>\n",
       "      <td>9.42</td>\n",
       "      <td>9.56</td>\n",
       "      <td>9.44</td>\n",
       "      <td>9.23</td>\n",
       "      <td>10.45</td>\n",
       "      <td>10.27</td>\n",
       "      <td>9.728333</td>\n",
       "    </tr>\n",
       "  </tbody>\n",
       "</table>\n",
       "</div>"
      ],
      "text/plain": [
       "     Country             Category  Time (hours)   Data Source Beverage Types  \\\n",
       "0  Australia  Eating and drinking     89.061849   Data source      All types   \n",
       "1    Austria  Eating and drinking     78.836406   Data source      All types   \n",
       "2    Belgium  Eating and drinking     98.516408   Data source      All types   \n",
       "3     Canada  Eating and drinking     64.819713   Data source      All types   \n",
       "4    Denmark  Eating and drinking    119.153410   Data source      All types   \n",
       "\n",
       "    2018   2017   2016   2015   2014   2013   2012   2011   2010        Avg  \n",
       "0   9.51   9.49   9.79   9.68   9.90  10.00  10.03  10.30  10.52  10.071667  \n",
       "1  11.80  11.70  11.70  11.60  12.20  11.60  12.10  11.90  12.10  11.916667  \n",
       "2   9.42   9.42   9.42  10.36  10.57  10.33  10.09  10.14  10.27  10.293333  \n",
       "3   8.20   8.20   8.10   8.00   8.00   8.20   8.30   8.20   8.30   8.166667  \n",
       "4   9.31   9.30   9.51   9.42   9.56   9.44   9.23  10.45  10.27   9.728333  "
      ]
     },
     "execution_count": 15,
     "metadata": {},
     "output_type": "execute_result"
    }
   ],
   "source": [
    "# Merge two data sets into one by country\n",
    "consumption_df = eat_drink_time_df.merge(consumption_all_df, on=\"Country\")\n",
    "consumption_df.head()"
   ]
  },
  {
   "cell_type": "code",
   "execution_count": 16,
   "metadata": {},
   "outputs": [
    {
     "data": {
      "text/plain": [
       "Index(['Country', 'Category', 'Time (hours)', 'Data Source', 'Beverage Types',\n",
       "       '2018', '2017', '2016', '2015', '2014', '2013', '2012', '2011', '2010',\n",
       "       'Avg'],\n",
       "      dtype='object')"
      ]
     },
     "execution_count": 16,
     "metadata": {},
     "output_type": "execute_result"
    }
   ],
   "source": [
    "consumption_df.columns"
   ]
  },
  {
   "cell_type": "code",
   "execution_count": 21,
   "metadata": {},
   "outputs": [],
   "source": [
    "# create list to insert\n",
    "education_list = []"
   ]
  },
  {
   "cell_type": "code",
   "execution_count": 22,
   "metadata": {},
   "outputs": [],
   "source": [
    "# iterate the dataframe to populate list with only the relevant data needed for education scores\n",
    "for index,row in education_df.iterrows():\n",
    "    education = {\n",
    "        \"Country\": row[\"Country\"],\n",
    "        \"Time (hours)\": row['Time (hours)'],\n",
    "        \"PISA: Mean performance on the science scale\": row[\"PISA: Mean performance on the science scale\"]\n",
    "    }\n",
    "    education_list.append(education)"
   ]
  },
  {
   "cell_type": "code",
   "execution_count": 17,
   "metadata": {},
   "outputs": [],
   "source": [
    "# create list to insert\n",
    "consumption_list = []\n",
    "\n",
    "# iterate the dataframe to populate list with only the relevant data needed for alcohol consumption\n",
    "for idx,row in consumption_df.iterrows():\n",
    "    cons_dict = {\n",
    "        \"Country\": row[\"Country\"],\n",
    "        \"time_spent\": row[\"Time (hours)\"],\n",
    "        \"avg_consumption\": row[\"Avg\"]\n",
    "    }\n",
    "    consumption_list.append(cons_dict)"
   ]
  },
  {
   "cell_type": "code",
   "execution_count": null,
   "metadata": {},
   "outputs": [],
   "source": []
  },
  {
   "cell_type": "code",
   "execution_count": null,
   "metadata": {},
   "outputs": [],
   "source": []
  },
  {
   "cell_type": "code",
   "execution_count": null,
   "metadata": {},
   "outputs": [],
   "source": []
  },
  {
   "cell_type": "code",
   "execution_count": null,
   "metadata": {},
   "outputs": [],
   "source": []
  },
  {
   "cell_type": "code",
   "execution_count": null,
   "metadata": {},
   "outputs": [],
   "source": []
  },
  {
   "cell_type": "code",
   "execution_count": null,
   "metadata": {},
   "outputs": [],
   "source": []
  },
  {
   "cell_type": "markdown",
   "metadata": {},
   "source": [
    "# Load"
   ]
  },
  {
   "cell_type": "code",
   "execution_count": 51,
   "metadata": {},
   "outputs": [
    {
     "data": {
      "text/plain": [
       "['country', 'time', 'category', 'education', 'alcohol']"
      ]
     },
     "execution_count": 51,
     "metadata": {},
     "output_type": "execute_result"
    }
   ],
   "source": [
    "# PostgreSQL Connection\n",
    "project_db = \"etl_project_db\" #poner nombre de base de datos que creemos\n",
    "rds_connection_string = f\"postgres:1234@localhost:5432/{project_db}\"\n",
    "engine = create_engine(f'postgresql://{rds_connection_string}')\n",
    "engine.table_names()"
   ]
  },
  {
   "cell_type": "code",
   "execution_count": 52,
   "metadata": {},
   "outputs": [
    {
     "data": {
      "text/plain": [
       "['country', 'time', 'category', 'education', 'alcohol']"
      ]
     },
     "execution_count": 52,
     "metadata": {},
     "output_type": "execute_result"
    }
   ],
   "source": [
    "# Get the automap to get classes of the tables\n",
    "Base = automap_base()\n",
    "Base.prepare(engine, reflect=True)\n",
    "Base.classes.keys()"
   ]
  },
  {
   "cell_type": "code",
   "execution_count": 53,
   "metadata": {},
   "outputs": [],
   "source": [
    "# get the session to work with the DB\n",
    "session = Session(engine)"
   ]
  },
  {
   "cell_type": "code",
   "execution_count": 54,
   "metadata": {},
   "outputs": [],
   "source": [
    "# get the classes to insert information into tables\n",
    "Country = Base.classes.country\n",
    "Category = Base.classes.category\n",
    "Time = Base.classes.time\n",
    "Education = Base.classes.education\n",
    "Alcohol = Base.classes.alcohol"
   ]
  },
  {
   "cell_type": "code",
   "execution_count": 55,
   "metadata": {},
   "outputs": [],
   "source": [
    "# Insert each register into country table\n",
    "for country in countries:\n",
    "    #print(f\"Inserting - {country}\")\n",
    "    session.add(Country(name=country))\n",
    "    \n",
    "    \n",
    "session.commit()"
   ]
  },
  {
   "cell_type": "code",
   "execution_count": 56,
   "metadata": {},
   "outputs": [],
   "source": [
    "# insert each register into category table\n",
    "for category in categories:\n",
    "    session.add(Category(category=category))\n",
    "\n",
    "session.commit()"
   ]
  },
  {
   "cell_type": "code",
   "execution_count": 83,
   "metadata": {},
   "outputs": [],
   "source": [
    "# insert values into Time_use table including country and category\n",
    "for idx,row in time_use_df.iterrows():\n",
    "    # find objects to insert into table\n",
    "    country_obj = session.query(Country).filter(Country.name == row[\"Country\"]).limit(1).all()\n",
    "    category_obj = session.query(Category).filter(Category.category == row[\"Category\"]).limit(1).all()\n",
    "    #print(country_obj[0].id, category_obj[0].id)\n",
    "    # insert values into the table\n",
    "    session.add(\n",
    "        Time(\n",
    "            id_country=country_obj[0].id, \n",
    "            id_category=category_obj[0].id, \n",
    "            time=row[\"Time (hours)\"]\n",
    "        )\n",
    "    )\n",
    "    \n",
    "    \n",
    "    \n",
    "session.commit()"
   ]
  },
  {
   "cell_type": "code",
   "execution_count": null,
   "metadata": {},
   "outputs": [],
   "source": []
  },
  {
   "cell_type": "code",
   "execution_count": 87,
   "metadata": {},
   "outputs": [
    {
     "data": {
      "text/plain": [
       "8"
      ]
     },
     "execution_count": 87,
     "metadata": {},
     "output_type": "execute_result"
    }
   ],
   "source": [
    "# get the ID's from the categories that we're going to use \n",
    "education_id = session.query(Category).filter(Category.category == \"Education\").limit(1).all()[0].id\n",
    "alcohol_id = session.query(Category).filter(Category.category == \"Eating and drinking\").limit(1).all()[0].id"
   ]
  },
  {
   "cell_type": "code",
   "execution_count": 114,
   "metadata": {},
   "outputs": [],
   "source": [
    "# insert into education vs time\n",
    "\n",
    "for edu in education_list:\n",
    "    # find objects to insert into table\n",
    "    country_obj = session.query(Country).filter(Country.name == edu[\"Country\"]).limit(1).all()\n",
    "\n",
    "    time_obj = session.query(Time).filter(\n",
    "        and_(Time.id_category == education_id, Time.id_country == country_obj[0].id)\n",
    "    ).limit(1).all()\n",
    "\n",
    "    # insert values into the table\n",
    "    session.add(\n",
    "        Education(\n",
    "            id_time_use = time_obj[0].id, \n",
    "            score = edu[\"PISA: Mean performance on the science scale\"]\n",
    "        )\n",
    "    )\n",
    "    \n",
    "session.commit()"
   ]
  },
  {
   "cell_type": "code",
   "execution_count": 116,
   "metadata": {},
   "outputs": [],
   "source": [
    "# insert into alcohol vs time\n",
    "\n",
    "for cons in consumption_list:\n",
    "    # find objects to insert into table\n",
    "    country_obj = session.query(Country).filter(Country.name == cons[\"Country\"]).limit(1).all()\n",
    "\n",
    "    time_obj = session.query(Time).filter(\n",
    "        and_(Time.id_category == alcohol_id, Time.id_country == country_obj[0].id)\n",
    "    ).limit(1).all()\n",
    "\n",
    "    # insert values into the table\n",
    "    session.add(\n",
    "        Alcohol(\n",
    "            id_time_use = time_obj[0].id, \n",
    "            consume_avg = cons[\"avg_consumption\"]\n",
    "        )\n",
    "    )\n",
    "    \n",
    "session.commit()"
   ]
  },
  {
   "cell_type": "code",
   "execution_count": null,
   "metadata": {},
   "outputs": [],
   "source": []
  },
  {
   "cell_type": "code",
   "execution_count": null,
   "metadata": {},
   "outputs": [],
   "source": []
  },
  {
   "cell_type": "code",
   "execution_count": null,
   "metadata": {},
   "outputs": [],
   "source": []
  },
  {
   "cell_type": "code",
   "execution_count": null,
   "metadata": {},
   "outputs": [],
   "source": []
  },
  {
   "cell_type": "code",
   "execution_count": null,
   "metadata": {},
   "outputs": [],
   "source": []
  },
  {
   "cell_type": "code",
   "execution_count": null,
   "metadata": {},
   "outputs": [],
   "source": []
  },
  {
   "cell_type": "code",
   "execution_count": 29,
   "metadata": {},
   "outputs": [],
   "source": [
    "# session.rollback()"
   ]
  },
  {
   "cell_type": "code",
   "execution_count": 117,
   "metadata": {},
   "outputs": [
    {
     "name": "stdout",
     "output_type": "stream",
     "text": [
      "1\n",
      "2\n",
      "3\n",
      "4\n",
      "5\n"
     ]
    }
   ],
   "source": [
    "for demo in session.query(Alcohol).limit(5):\n",
    "    print(demo.id)"
   ]
  },
  {
   "cell_type": "code",
   "execution_count": null,
   "metadata": {},
   "outputs": [],
   "source": []
  },
  {
   "cell_type": "code",
   "execution_count": 118,
   "metadata": {},
   "outputs": [],
   "source": [
    "# close de session\n",
    "session.close()"
   ]
  },
  {
   "cell_type": "code",
   "execution_count": null,
   "metadata": {},
   "outputs": [],
   "source": []
  },
  {
   "cell_type": "code",
   "execution_count": null,
   "metadata": {},
   "outputs": [],
   "source": []
  },
  {
   "cell_type": "markdown",
   "metadata": {},
   "source": [
    "### previous MongoDB work"
   ]
  },
  {
   "cell_type": "code",
   "execution_count": null,
   "metadata": {},
   "outputs": [],
   "source": [
    "# Initialize PyMongo to work with MongoDBs\n",
    "#conn = 'mongodb://localhost:27017'\n",
    "#client = pymongo.MongoClient(conn)"
   ]
  },
  {
   "cell_type": "code",
   "execution_count": null,
   "metadata": {},
   "outputs": [],
   "source": [
    "# Define database\n",
    "#db = client.etl_project_db\n",
    "\n",
    "# create list to insert\n",
    "#education_list = []"
   ]
  },
  {
   "cell_type": "code",
   "execution_count": null,
   "metadata": {},
   "outputs": [],
   "source": []
  },
  {
   "cell_type": "code",
   "execution_count": null,
   "metadata": {},
   "outputs": [],
   "source": [
    "# create collection and insert many results\n",
    "#db.score_time_education.insert_many(education_list)"
   ]
  },
  {
   "cell_type": "code",
   "execution_count": null,
   "metadata": {},
   "outputs": [],
   "source": [
    "# create collection and insert many results\n",
    "#db.time_alcohol_consumption.insert_many(consumption_list)"
   ]
  },
  {
   "cell_type": "code",
   "execution_count": null,
   "metadata": {},
   "outputs": [],
   "source": []
  },
  {
   "cell_type": "code",
   "execution_count": null,
   "metadata": {},
   "outputs": [],
   "source": []
  },
  {
   "cell_type": "code",
   "execution_count": null,
   "metadata": {},
   "outputs": [],
   "source": []
  },
  {
   "cell_type": "code",
   "execution_count": null,
   "metadata": {},
   "outputs": [],
   "source": []
  },
  {
   "cell_type": "code",
   "execution_count": null,
   "metadata": {},
   "outputs": [],
   "source": []
  },
  {
   "cell_type": "code",
   "execution_count": null,
   "metadata": {},
   "outputs": [],
   "source": [
    "\n"
   ]
  },
  {
   "cell_type": "code",
   "execution_count": null,
   "metadata": {},
   "outputs": [],
   "source": []
  },
  {
   "cell_type": "code",
   "execution_count": null,
   "metadata": {},
   "outputs": [],
   "source": []
  },
  {
   "cell_type": "code",
   "execution_count": null,
   "metadata": {},
   "outputs": [],
   "source": []
  },
  {
   "cell_type": "code",
   "execution_count": null,
   "metadata": {},
   "outputs": [],
   "source": []
  }
 ],
 "metadata": {
  "kernelspec": {
   "display_name": "Python 3",
   "language": "python",
   "name": "python3"
  },
  "language_info": {
   "codemirror_mode": {
    "name": "ipython",
    "version": 3
   },
   "file_extension": ".py",
   "mimetype": "text/x-python",
   "name": "python",
   "nbconvert_exporter": "python",
   "pygments_lexer": "ipython3",
   "version": "3.8.3"
  }
 },
 "nbformat": 4,
 "nbformat_minor": 4
}
